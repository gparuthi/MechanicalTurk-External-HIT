{
 "cells": [
  {
   "cell_type": "code",
   "execution_count": 1,
   "metadata": {
    "collapsed": false
   },
   "outputs": [
    {
     "name": "stderr",
     "output_type": "stream",
     "text": [
      "/Users/gauravparuthi/miniconda2/lib/python2.7/site-packages/IPython/core/interactiveshell.py:2885: FutureWarning: \n",
      "mpl_style had been deprecated and will be removed in a future version.\n",
      "Use `matplotlib.pyplot.style.use` instead.\n",
      "\n",
      "  exec(code_obj, self.user_global_ns, self.user_ns)\n"
     ]
    }
   ],
   "source": [
    "import sys\n",
    "from datetime import datetime\n",
    "from dateutil import parser\n",
    "import pandas as pd\n",
    "import numpy as np\n",
    "import random\n",
    "from IPython.display import HTML\n",
    "\n",
    "import json \n",
    "\n",
    "%load_ext autoreload\n",
    "%autoreload 2\n",
    "\n",
    "# %logstart -t -o 'Logs/ken | create basic | .log'\n",
    "\n",
    "pd.options.display.max_colwidth = 140\n",
    "pd.options.display.mpl_style = 'default'\n",
    "\n",
    "%matplotlib inline\n",
    "import matplotlib.pyplot as plt"
   ]
  },
  {
   "cell_type": "code",
   "execution_count": 2,
   "metadata": {
    "collapsed": false
   },
   "outputs": [],
   "source": [
    "import common.mturk as mturk\n",
    "from datetime import datetime\n",
    "import pytz\n",
    "import math\n",
    "import common.config as config\n",
    "\n",
    "def get_mturk_conf(use_sandbox=True):\n",
    "    requester_conf = {\n",
    "        \"use_sandbox\" : use_sandbox,\n",
    "        \"stdout_log\" : False,\n",
    "        \"verify_mturk_ssl\" : False,\n",
    "        \"aws_key\" : config.AWS_KEY,\n",
    "        \"aws_secret_key\" : config.AWS_SECRET_KEY\n",
    "    }\n",
    "    print datetime.now(), requester_conf\n",
    "    return requester_conf\n",
    "\n",
    "def get_balance(use_sandbox=False):\n",
    "    requester_conf = get_mturk_conf(use_sandbox)\n",
    "    r = mturk.MechanicalTurk(requester_conf).request(\"GetAccountBalance\")\n",
    "    if r.valid:\n",
    "        return r.get_response_element(\"AvailableBalance\")\n",
    "\n",
    "def get_question(url):\n",
    "    return \"\"\"<?xml version=\"1.0\" encoding=\"UTF-8\"?>\n",
    "        <ExternalQuestion xmlns=\"http://mechanicalturk.amazonaws.com/AWSMechanicalTurkDataSchemas/2006-07-14/ExternalQuestion.xsd\">\n",
    "          <ExternalURL>%s</ExternalURL>\n",
    "          <FrameHeight>800</FrameHeight>\n",
    "        </ExternalQuestion>\n",
    "    \"\"\"%url\n",
    "\n",
    "no_of_days = 2\n",
    "def create_hit(task_config):\n",
    "    m = mturk.MechanicalTurk(get_mturk_conf(task_config['use_sandbox']))\n",
    "    description = task_config['description']\n",
    "    keywords = task_config['keywords']\n",
    "    incentive = task_config['incentive']\n",
    "    amt = math.ceil(incentive*100)/100\n",
    "    reward = {'Amount':amt, 'CurrencyCode':'USD'}\n",
    "    duration= 60*20\n",
    "    autoapp = 60*60*48\n",
    "    question= get_question(task_config['url'])\n",
    "    lifetime = 60*60*24*no_of_days \n",
    "    max_assignments = task_config['max_assignments']\n",
    "    qualification_req = [{\"QualificationTypeId\":\"000000000000000000L0\",\n",
    "                                \"IntegerValue\":98,\n",
    "                                'Comparator':'GreaterThan'},{\"QualificationTypeId\":\"00000000000000000040\",\n",
    "                                \"IntegerValue\":1000 if task_config['use_sandbox']==False else 1,\n",
    "                                'Comparator':'GreaterThan'},\n",
    "                                {\"QualificationTypeId\":\"00000000000000000071\",\n",
    "                                'Comparator':'EqualTo', 'LocaleValue':{'Country':'US'}},\n",
    "                                ]\n",
    "\n",
    "    task_type_conf = {'Title': task_config['title'], \n",
    "                               'Description' :description, \n",
    "                               'MaxAssignments': max_assignments,\n",
    "                               'Keywords':keywords, \n",
    "                               'Reward':reward, \n",
    "                               'RequesterAnnotation':task_config['title'],\n",
    "                               'AssignmentDurationInSeconds':duration, \n",
    "                               'AutoApprovalDelayInSeconds': autoapp,\n",
    "                               'Question': question,\n",
    "                               'LifetimeInSeconds': lifetime,\n",
    "                               'QualificationRequirement': qualification_req\n",
    "    }\n",
    "\n",
    "\n",
    "    r = m.request(\"CreateHIT\",task_type_conf)\n",
    "    try: \n",
    "      print 'HITId: %s'%r['CreateHITResponse']['HIT']['HITId']\n",
    "    except:\n",
    "      print 'Some problem. AWS Response: %s'%r \n",
    "    \n",
    "    return r\n",
    "\n",
    "def extend_hit_assignments(hitid, count):\n",
    "    m = mturk.MechanicalTurk(get_mturk_conf(False))\n",
    "    r = m.request(\"ExtendHIT\",\n",
    "              {'HITId': hitid, \n",
    "               'MaxAssignmentsIncrement':count\n",
    "               })\n",
    "    print r\n",
    "    return r\n",
    "\n",
    "def get_assignments(hitid, pageno=1):\n",
    "    m = mturk.MechanicalTurk(get_mturk_conf(False))\n",
    "    r = m.request(\"GetAssignmentsForHIT\",{'HITId':hitid,'PageSize':100, 'PageNumber': pageno})\n",
    "    print 'total assignments = %s'%r['GetAssignmentsForHITResponse']['GetAssignmentsForHITResult']['TotalNumResults']\n",
    "    print 'in this page = %s'% len(r['GetAssignmentsForHITResponse']['GetAssignmentsForHITResult']['Assignment'])\n",
    "    return r\n",
    "\n",
    "def reject_assignment(assignmentId, feedback='Sorry, You failed to rate correctly on our verification message. Please read the instructions carefully next time. More information can be found at https://goo.gl/QAkHaJ. Please contact the requester for more information.'):\n",
    "    m = mturk.MechanicalTurk(get_mturk_conf(False))\n",
    "    r = m.request(\"RejectAssignment\",\n",
    "              {\n",
    "               'AssignmentId': assignmentId, \n",
    "               'RequesterFeedback': feedback\n",
    "            })\n",
    "    print r\n",
    "    return r\n",
    "\n",
    "def approve_rejected_assignment(assignmentId):\n",
    "    m = mturk.MechanicalTurk(get_mturk_conf(False))\n",
    "    r = m.request(\"ApproveRejectedAssignment\",\n",
    "              {\n",
    "               'AssignmentId': assignmentId, \n",
    "               'RequesterFeedback': 'Approving some rejected assignments just this time.'\n",
    "            })\n",
    "    print r\n",
    "    return r\n",
    "\n",
    "def block_worker(workerId):\n",
    "    if db.blocked_workers.find_one({'WorkerId':workerId}):\n",
    "        return {'msg':'already blocked', 'workerId':workerId}\n",
    "    m = mturk.MechanicalTurk(get_mturk_conf(False))\n",
    "    q= {\n",
    "            'WorkerId': workerId, \n",
    "            'Reason': 'Task was not completed properly. Rating of messages was found to be inappropriate: you failed to vote correctly on our verification messages.'\n",
    "               }\n",
    "    db.blocked_workers.insert(q)\n",
    "    r = m.request(\"BlockWorker\",\n",
    "              q)\n",
    "    print r\n",
    "    return r\n",
    "\n",
    "\n",
    "def gen_operation(op,q):\n",
    "    # if db.unblocked_workers.find_one({'WorkerId':workerId}):\n",
    "        # return {'msg':'already blocked', 'workerId':workerId}\n",
    "    m = mturk.MechanicalTurk(get_mturk_conf(False))\n",
    "    # q= {\n",
    "    #         'WorkerId': workerId, \n",
    "    #         'Reason': 'Task was not completed properly. Rating of messages was found to be inappropriate: you failed to vote correctly on our verification messages.'\n",
    "    #            }\n",
    "    # db.insert(q)\n",
    "    r = m.request(op,q)\n",
    "    print r\n",
    "    return r\n",
    "\n",
    "def grant_bonus(assignment_id, amt, reason):\n",
    "    worker_id = db.responses.find_one({'assignmentId':assignment_id}).get('workerId')\n",
    "    print 'found workerId %s'%worker_id\n",
    "    m = mturk.MechanicalTurk(get_mturk_conf(False))\n",
    "    r = m.request(\"GrantBonus\",\n",
    "              {\n",
    "               'AssignmentId': assignment_id, \n",
    "               'WorkerId':worker_id,\n",
    "               'BonusAmount': {'Amount':amt, 'CurrencyCode':'USD'},\n",
    "               'Reason':reason\n",
    "            })\n",
    "    return r\n",
    "\n",
    "def gen_operation(op,q):\n",
    "    m = mturk.MechanicalTurk(get_mturk_conf(False))\n",
    "    r = m.request(op,q)\n",
    "    return r\n",
    "\n",
    "def disable_hit(hitid):\n",
    "    return gen_operation('DisableHIT',{'HITId':hitid})"
   ]
  },
  {
   "cell_type": "code",
   "execution_count": 11,
   "metadata": {
    "collapsed": false
   },
   "outputs": [
    {
     "name": "stdout",
     "output_type": "stream",
     "text": [
      "2016-06-15 17:28:33.197950 {'stdout_log': False, 'verify_mturk_ssl': False, 'use_sandbox': False}\n"
     ]
    },
    {
     "name": "stderr",
     "output_type": "stream",
     "text": [
      "/Users/gauravparuthi/miniconda2/lib/python2.7/site-packages/requests/packages/urllib3/connectionpool.py:791: InsecureRequestWarning: Unverified HTTPS request is being made. Adding certificate verification is strongly advised. See: https://urllib3.readthedocs.org/en/latest/security.html\n",
      "  InsecureRequestWarning)\n"
     ]
    },
    {
     "data": {
      "text/plain": [
       "{u'Amount': u'214.050', u'CurrencyCode': u'USD', u'FormattedPrice': u'$214.05'}"
      ]
     },
     "execution_count": 11,
     "metadata": {},
     "output_type": "execute_result"
    }
   ],
   "source": [
    "get_balance()"
   ]
  },
  {
   "cell_type": "code",
   "execution_count": 8,
   "metadata": {
    "collapsed": true
   },
   "outputs": [],
   "source": [
    "keywords = 'message, text, walking, support, help, physical, activity'\n",
    "\n",
    "task_config = {'title':'Evaluate messages on their quality',\n",
    "               'url':'https://turkeval.firebaseapp.com/',\n",
    "              'description': 'Help someone to walk more by evaluating short messages that will be sent.',\n",
    "              'keywords':'image, tag, age',\n",
    "              'incentive': 1,\n",
    "              'max_assignments':100,\n",
    "              'use_sandbox': False} "
   ]
  },
  {
   "cell_type": "code",
   "execution_count": 9,
   "metadata": {
    "collapsed": false
   },
   "outputs": [
    {
     "name": "stdout",
     "output_type": "stream",
     "text": [
      "2016-06-15 11:29:23.580747 {'stdout_log': False, 'verify_mturk_ssl': False, 'use_sandbox': False}\n"
     ]
    },
    {
     "name": "stderr",
     "output_type": "stream",
     "text": [
      "/Users/gauravparuthi/miniconda2/lib/python2.7/site-packages/requests/packages/urllib3/connectionpool.py:791: InsecureRequestWarning: Unverified HTTPS request is being made. Adding certificate verification is strongly advised. See: https://urllib3.readthedocs.org/en/latest/security.html\n",
      "  InsecureRequestWarning)\n"
     ]
    },
    {
     "name": "stdout",
     "output_type": "stream",
     "text": [
      "HITId: 356ZPKYPUHTXCI3FORM6FN7WE33YP7\n"
     ]
    },
    {
     "data": {
      "text/plain": [
       "{u'CreateHITResponse': {u'HIT': {u'HITId': u'356ZPKYPUHTXCI3FORM6FN7WE33YP7',\n",
       "   u'HITTypeId': u'307F0QTJA1FUZZFEGWCWAVNS1VGA8D',\n",
       "   u'Request': {u'IsValid': u'True'}},\n",
       "  u'OperationRequest': {u'RequestId': u'537b0d69-d5b1-4af8-a8f0-a4da3c289784'}}}"
      ]
     },
     "execution_count": 9,
     "metadata": {},
     "output_type": "execute_result"
    }
   ],
   "source": [
    "create_hit(task_config)"
   ]
  },
  {
   "cell_type": "markdown",
   "metadata": {},
   "source": [
    "## Makeup HIT"
   ]
  },
  {
   "cell_type": "code",
   "execution_count": null,
   "metadata": {
    "collapsed": false
   },
   "outputs": [],
   "source": [
    "keywords = 'message, text, walking, support, help, physical, activity'\n",
    "\n",
    "task_config = {'title':'[Exclusive HIT] Please Ignore',\n",
    "               'url':'https://intecolab.com:5000/dummyIncentiveHit',\n",
    "              'description': 'Only those people who have been contacted by the requester may submit.',\n",
    "              'keywords':'image, tag, age',\n",
    "              'incentive': 1,\n",
    "              'max_assignments':9,\n",
    "              'use_sandbox': True} \n"
   ]
  },
  {
   "cell_type": "code",
   "execution_count": null,
   "metadata": {
    "collapsed": true
   },
   "outputs": [],
   "source": [
    "create_hit(task_config)"
   ]
  },
  {
   "cell_type": "code",
   "execution_count": null,
   "metadata": {
    "collapsed": true
   },
   "outputs": [],
   "source": [
    "findl(db.responses)"
   ]
  },
  {
   "cell_type": "code",
   "execution_count": null,
   "metadata": {
    "collapsed": false
   },
   "outputs": [],
   "source": [
    "hitids = ['A9KLWB70I12U7','A38ZV8LBZ034IZ','A5N6QK76RTR7R','A2CGCAQA2IKLRV','APEQ60QNQ3WQT','ADTNOFJHTTB1L','A2R1JVEVFXAGUI','A28L1K6D8QUCML','A9KLWB70I12U7','APEQ60QNQ3WQT']\n",
    "[(x['workerId'], x['assignmentId']) for x in db.responses.find({'workerId': {'$in': hitids}})]"
   ]
  },
  {
   "cell_type": "code",
   "execution_count": null,
   "metadata": {
    "collapsed": false
   },
   "outputs": [],
   "source": [
    "grant_bonus('3BXQMRHWK0ACWQKRCC2RJI28ZT3UMR','1','for the bug')"
   ]
  },
  {
   "cell_type": "markdown",
   "metadata": {},
   "source": [
    "## Operations on Assignments"
   ]
  },
  {
   "cell_type": "code",
   "execution_count": null,
   "metadata": {
    "collapsed": true
   },
   "outputs": [],
   "source": [
    "import xmltodict, json\n",
    "\n",
    "def get_answer(ass):\n",
    "    return tuple([xmltodict.parse(ass['Answer'])['QuestionFormAnswers']['Answer']['FreeText'],])"
   ]
  },
  {
   "cell_type": "code",
   "execution_count": null,
   "metadata": {
    "collapsed": false
   },
   "outputs": [],
   "source": [
    "for rec in r[u'GetAssignmentsForHITResponse'][u'GetAssignmentsForHITResult']['Assignment']:\n",
    "    oidct =  xmltodict.parse(rec['Answer'])[u'QuestionFormAnswers']['Answer']"
   ]
  },
  {
   "cell_type": "code",
   "execution_count": null,
   "metadata": {
    "collapsed": false
   },
   "outputs": [],
   "source": [
    "response = pd.DataFrame(oidct).set_index('QuestionIdentifier').to_dict()['FreeText']#orient='records')"
   ]
  },
  {
   "cell_type": "code",
   "execution_count": null,
   "metadata": {
    "collapsed": false
   },
   "outputs": [],
   "source": [
    "data = {}\n",
    "\n",
    "def checkmid(mid):\n",
    "    if mid not in data:\n",
    "        data[mid] = {}\n",
    "\n",
    "\n",
    "for k in response:\n",
    "    if 'message' in k and 'messagee' not in k:\n",
    "        print k\n",
    "        if '_text' in k:\n",
    "            text = response[k]\n",
    "            mid = k[7:9]\n",
    "            checkmid(mid)\n",
    "            data[mid]['text'] = text\n",
    "        \n",
    "\n",
    "data"
   ]
  },
  {
   "cell_type": "code",
   "execution_count": null,
   "metadata": {
    "collapsed": false
   },
   "outputs": [],
   "source": [
    "extend_hit_assignments('3K3G488TR2KKA6UAD2WY4VZDL8SQ56',10)"
   ]
  },
  {
   "cell_type": "code",
   "execution_count": null,
   "metadata": {
    "collapsed": true
   },
   "outputs": [],
   "source": [
    "assignmentids = ['3JC6VJ2SACVU9ALNE84E2FFS6VM5A1',\n",
    "    '3JBT3HLQF9EZ3SBEAFTRHEBI6GTZPH',\n",
    "    '3LUY3GC630CGJI58RK18QUIJWNH7PY',\n",
    "    '39U1BHVTDM3WARXS6P72IN70GOGT3K',\n",
    "    '30LB5CDZNDMWFB7UTU9JXHL6HNF0ZN']\n",
    "for aid in assignmentids:\n",
    "    reject_assignment(aid, feedback=\"It has been noted that you skipped rating some of the messages. You might have clicked the Next button without completing the ratings. Please contact the requester if you have any questions.\")"
   ]
  },
  {
   "cell_type": "markdown",
   "metadata": {},
   "source": [
    "#### Disable HIT"
   ]
  },
  {
   "cell_type": "code",
   "execution_count": null,
   "metadata": {
    "collapsed": false
   },
   "outputs": [],
   "source": [
    "disable_hit('3OQQD2WO8II4FTJNMB3WGWA7G193ID')"
   ]
  },
  {
   "cell_type": "markdown",
   "metadata": {},
   "source": [
    "# HTML must contain\n",
    "\n",
    "A form that submits to Turk. Example: \n",
    "\n",
    "```\n",
    "<form id=\"turkform\" action={getUrlParameter(\"turkSubmitTo\")+\"/mturk/externalSubmit\"} method=\"post\">\n",
    "```\n",
    "\n",
    "Where getUrlParameter is a function that gets the value of a parameter from URL. \"turkSubmitTo\" is passed by MTurk to the page. "
   ]
  },
  {
   "cell_type": "code",
   "execution_count": null,
   "metadata": {
    "collapsed": true
   },
   "outputs": [],
   "source": []
  }
 ],
 "metadata": {
  "anaconda-cloud": {},
  "kernelspec": {
   "display_name": "Python [default]",
   "language": "python",
   "name": "python2"
  },
  "language_info": {
   "codemirror_mode": {
    "name": "ipython",
    "version": 2
   },
   "file_extension": ".py",
   "mimetype": "text/x-python",
   "name": "python",
   "nbconvert_exporter": "python",
   "pygments_lexer": "ipython2",
   "version": "2.7.12"
  }
 },
 "nbformat": 4,
 "nbformat_minor": 0
}
